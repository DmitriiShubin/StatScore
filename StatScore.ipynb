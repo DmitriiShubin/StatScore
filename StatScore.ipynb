{
 "cells": [
  {
   "cell_type": "code",
   "execution_count": 7,
   "metadata": {},
   "outputs": [],
   "source": [
    "import pandas as pd\n",
    "import numpy as np\n",
    "import warnings\n",
    "from random import randint\n",
    "\n",
    "class StatScore:\n",
    "    \n",
    "    #initialize the class\n",
    "    def __init__(self,n_boost = 100000, mode='max'):\n",
    "        self.mode = mode\n",
    "        \n",
    "        if not((mode == 'max') | (mode == 'min')):\n",
    "            raise ValueError('Parameter \"Mode\" should be equal to \"max\" or \"min\"')\n",
    "            \n",
    "        \n",
    "        self.n_boost = int(n_boost)\n",
    "        print(\"The number of sub-samples : \",n_boost)\n",
    "        print(\"Mode: \",mode)\n",
    "    \n",
    "    #evaluate the score\n",
    "    def evaluate(self,scoreVector):\n",
    "        \n",
    "        #check the shape of score array\n",
    "        if ((scoreVector.shape[0] == 1) | (v.ndim != 1)):\n",
    "            raise ValueError(\"Error: the shape of validation score should be 1-dimentional vector with shape (n,)\")\n",
    "            return Nan,Nan\n",
    "        else:\n",
    "            \n",
    "            #convert if required, according to the optimization metric\n",
    "            if (self.mode == 'min'):\n",
    "                scoreVector = 1/scoreVector;\n",
    "            \n",
    "            scoreVecShape = scoreVector.shape[0]\n",
    "            \n",
    "            #sub-sample array\n",
    "            vectorSubSample = np.zeros(shape=(self.n_boost,scoreVecShape))\n",
    "            \n",
    "            #aaply boostrap\n",
    "            for r in range(self.n_boost):\n",
    "                count=0\n",
    "                for t in range(scoreVecShape):\n",
    "                    #np.random.seed(t)\n",
    "                    vectorSubSample[r,t] = scoreVector[np.random.randint(0, scoreVecShape)]\n",
    "                    \n",
    "                    \n",
    "            #distribution of the mean\n",
    "            meanDist = np.zeros(shape=(self.n_boost,1))\n",
    "            for r in range(self.n_boost):\n",
    "                meanDist[r] = np.mean(vectorSubSample[r,:])\n",
    "\n",
    "            #we would like to have the key score higher\n",
    "            val_precision = (np.mean(meanDist))\n",
    "            #we would like to have the distribution of the key score narrower\n",
    "            val_recall = 1/(np.percentile(meanDist,99.7) - np.percentile(meanDist,0.3))\n",
    "\n",
    "            return ((val_precision*val_recall)/(val_recall+val_precision)),meanDist"
   ]
  }
 ],
 "metadata": {
  "kernelspec": {
   "display_name": "Python 3",
   "language": "python",
   "name": "python3"
  },
  "language_info": {
   "codemirror_mode": {
    "name": "ipython",
    "version": 3
   },
   "file_extension": ".py",
   "mimetype": "text/x-python",
   "name": "python",
   "nbconvert_exporter": "python",
   "pygments_lexer": "ipython3",
   "version": "3.6.8"
  }
 },
 "nbformat": 4,
 "nbformat_minor": 2
}
