{
 "cells": [
  {
   "cell_type": "code",
   "execution_count": 6,
   "metadata": {},
   "outputs": [],
   "source": [
    "import pandas as pd\n",
    "import numpy as np\n",
    "import warnings\n",
    "\n",
    "class StatScore:\n",
    "    \n",
    "    #initalize the class\n",
    "    def __init__(self,n_boost = 100000,mode='max'):\n",
    "        \n",
    "        if ((mode != 'max') | (mode != 'min')):\n",
    "            raise ValueError('Parameter \"Mode\" shoulde be equal to \"max\" or \"min\"')\n",
    "            \n",
    "        self.mode = mode\n",
    "        self.n_boost = int(n_boost)\n",
    "        print(\"The number of sub-samples is: \",n_boost)\n",
    "    \n",
    "    #evaluate the score\n",
    "    def evalScore(scoreVector):\n",
    "        \n",
    "        if ((scoreVector.shape[0] == 1) & (scoreVector.shape[0] == 1)):\n",
    "            raise ValueError(\"Error: the shape of validation score should be 1-dimentional vector, but got the scalar\")\n",
    "            \n",
    "        else:\n",
    "            \n",
    "            #correct the shape of the scoreVector\n",
    "            if (scoreVector.shape[0] < scoreVector.shape[1]):\n",
    "                scoreVector = scoreVector.T\n",
    "                          \n",
    "            if (mode == 'min'):\n",
    "                scoreVector = 1/scoreVector;\n",
    "            \n",
    "            scoreVecShape = scoreVector.shape[0]\n",
    "                          \n",
    "            vectorSubSample = np.zeros(shape=(n_boost,scoreVecShape))\n",
    "            \n",
    "            for r in range(n_boost):\n",
    "                for t in range(scoreVecShape):\n",
    "                    novel[r,t] = score[randint(0, t)]\n",
    "            \n",
    "            #distribution of the mean\n",
    "            meanDist = np.zeros(shape=(n_boost,1))\n",
    "\n",
    "            for r in range(n_boost):\n",
    "                meanDist[r] = np.mean(novel[r,:])\n",
    "\n",
    "            val_precision = (np.mean(m))\n",
    "            val_recall = 1/(np.percentile(m,99.7) - np.percentile(m,0.3))\n",
    "            \n",
    "            return ((val_precision*val_recall)/(val_recall+val_precision))   "
   ]
  }
 ],
 "metadata": {
  "kernelspec": {
   "display_name": "Python 3",
   "language": "python",
   "name": "python3"
  },
  "language_info": {
   "codemirror_mode": {
    "name": "ipython",
    "version": 3
   },
   "file_extension": ".py",
   "mimetype": "text/x-python",
   "name": "python",
   "nbconvert_exporter": "python",
   "pygments_lexer": "ipython3",
   "version": "3.6.8"
  }
 },
 "nbformat": 4,
 "nbformat_minor": 2
}
